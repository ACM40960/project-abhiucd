{
 "cells": [
  {
   "cell_type": "markdown",
   "metadata": {},
   "source": [
    "## Pre-processing steps of Kaggle's symbols:\n",
    "\n",
    "> Kggle's symbol Images has to be processed in the same way as MNIST before training, steps involved in preprocessing are:\n",
    "- Making a binary image with a black backdrop and white symbols\n",
    "- Dilating by a 3 * 3 kernel\n",
    "- Padding the image to 20 X 20 while keeping the aspect ratio\n",
    "- The picture is padded to a size of 28 * 28 by the center of mass."
   ]
  },
  {
   "cell_type": "markdown",
   "metadata": {},
   "source": [
    "#### Importing Required Packages"
   ]
  },
  {
   "cell_type": "code",
   "execution_count": 2,
   "metadata": {},
   "outputs": [],
   "source": [
    "import cv2\n",
    "import glob\n",
    "import os\n",
    "from PIL import Image\n",
    "import PIL.ImageOps\n",
    "import numpy as np\n",
    "import math\n",
    "from scipy import ndimage\n",
    "from PIL import Image\n",
    "from numpy import array\n",
    "from matplotlib import pyplot as plt"
   ]
  },
  {
   "cell_type": "markdown",
   "metadata": {},
   "source": [
    "#### Setting path location of original stored symbols and transformed symbols."
   ]
  },
  {
   "cell_type": "code",
   "execution_count": 2,
   "metadata": {},
   "outputs": [],
   "source": [
    "symbol = 'times' # Needs to update this to \"+\", \"-\", \",\" to perform transformation for these symbols as well.\n",
    "path = 'data_collection/kaggle/'+ symbol + '/*.*'\n",
    "path_transformed = 'data_collection/kaggle_transformed/'+ symbol\n",
    "img_number = 1 # starting an iterator for the numbering the images after transformation "
   ]
  },
  {
   "cell_type": "code",
   "execution_count": 3,
   "metadata": {},
   "outputs": [
    {
     "name": "stdout",
     "output_type": "stream",
     "text": [
      "['data_collection/kaggle/times\\\\exp1.jpg', 'data_collection/kaggle/times\\\\exp10047.jpg', 'data_collection/kaggle/times\\\\exp1010.jpg', 'data_collection/kaggle/times\\\\exp10112.jpg', 'data_collection/kaggle/times\\\\exp10113.jpg', 'data_collection/kaggle/times\\\\exp10173.jpg', 'data_collection/kaggle/times\\\\exp10219.jpg', 'data_collection/kaggle/times\\\\exp10230.jpg', 'data_collection/kaggle/times\\\\exp1031.jpg', 'data_collection/kaggle/times\\\\exp10339.jpg']\n"
     ]
    }
   ],
   "source": [
    "# glob\n",
    "file_list = glob.glob(path) # It will return a list of file names under this folder\n",
    "print(file_list[0:10]) # Printing 1st 10 file names contained in the list"
   ]
  },
  {
   "cell_type": "code",
   "execution_count": 4,
   "metadata": {},
   "outputs": [],
   "source": [
    "# Loading each file at a time\n",
    "img_list = [] # Empty list to store images from the folder.\n",
    "img_list_transformed = [] # Empty list to store the transformed images"
   ]
  },
  {
   "cell_type": "markdown",
   "metadata": {},
   "source": [
    "## Reading each symbols from the directory, performing transformations and storing in another directory for training neural network"
   ]
  },
  {
   "cell_type": "code",
   "execution_count": 9,
   "metadata": {},
   "outputs": [],
   "source": [
    "for file in glob.glob(path): # Iterating through each file\n",
    "    #print(file)\n",
    "    \n",
    "    a = cv2.imread(file,0) # now, each file can be read using openCV as numpy array\n",
    "    (thresh, a) = cv2.threshold(a,127,255,cv2.THRESH_BINARY_INV) # To invert the white pixels to balck and black to white for symbols images to match mnist format\n",
    "    img_list.append(a) # created a list of images\n",
    "    \n",
    "    pi = pre_process_img(a, 1,1) # calling the function to apply transformations on the symbols data\n",
    "    img_list_transformed.append(pi) # storing processed and normalized image(1,1,28,28)\n",
    "    \n",
    "    pi_reshaped = pi.reshape((28,28))\n",
    "    cv2.imwrite(path_transformed + \"/processed\"+ str(img_number)+ \".jpeg\", 255*pi_reshaped) # Writing each transforemed image into a folder for training the neural network\n",
    "    img_number +=1\n",
    "    "
   ]
  },
  {
   "cell_type": "markdown",
   "metadata": {},
   "source": [
    "#### Showing the outputs of various steps involved during the preprocessing of the symbols images."
   ]
  },
  {
   "cell_type": "code",
   "execution_count": 31,
   "metadata": {},
   "outputs": [
    {
     "data": {
      "text/plain": [
       "array([[0, 0, 0, ..., 0, 0, 0],\n",
       "       [0, 0, 0, ..., 0, 0, 0],\n",
       "       [0, 0, 0, ..., 0, 0, 0],\n",
       "       ...,\n",
       "       [0, 0, 0, ..., 0, 0, 0],\n",
       "       [0, 0, 0, ..., 0, 0, 0],\n",
       "       [0, 0, 0, ..., 0, 0, 0]], dtype=uint8)"
      ]
     },
     "execution_count": 31,
     "metadata": {},
     "output_type": "execute_result"
    },
    {
     "data": {
      "image/png": "[encoded data removed]",
      "text/plain": [
       "<Figure size 432x288 with 1 Axes>"
      ]
     },
     "metadata": {
      "needs_background": "light"
     },
     "output_type": "display_data"
    }
   ],
   "source": [
    "# Plotting the original image read as grayscale format and inverting the pixel colors i,e black pixels to white and vice-versa.\n",
    "plt.imshow(img_list[5])\n",
    "img_list[5].shape\n",
    "img_list[5]"
   ]
  },
  {
   "cell_type": "code",
   "execution_count": 33,
   "metadata": {},
   "outputs": [
    {
     "data": {
      "text/plain": [
       "(45, 45)"
      ]
     },
     "execution_count": 33,
     "metadata": {},
     "output_type": "execute_result"
    },
    {
     "data": {
      "image/png": "[encoded data removed]",
      "text/plain": [
       "<Figure size 432x288 with 1 Axes>"
      ]
     },
     "metadata": {
      "needs_background": "light"
     },
     "output_type": "display_data"
    }
   ],
   "source": [
    "# Applying gaussian blur to smoothen the edges\n",
    "imagem = cv2.GaussianBlur(img_list[5],(5,5),1)\n",
    "plt.imshow(imagem)\n",
    "imagem.shape\n"
   ]
  },
  {
   "cell_type": "code",
   "execution_count": 15,
   "metadata": {},
   "outputs": [],
   "source": [
    "# The digit is then placed and centered into a square image by preserving the aspect ratio.\n",
    "\n",
    "def image_resize(image, width = None, height = None, inter = cv2.INTER_LINEAR):\n",
    "     '''\n",
    "    Function description\n",
    "    image_resize : The objective of the functions is to resize images.\n",
    "    argument's: This function takes in following input\n",
    "        image (Matrix)  : source/input image to resize\n",
    "        width (Integer) : width of the required image \n",
    "        height (Integer): height of required image\n",
    "        inter (Method)  : flag that takes Interpolation/Extrapolation method,\n",
    "        default is set to INTER_LINEAR(a bilinear interpolation)\n",
    "    output:\n",
    "        image (Matrix)  : Returns a resized image\n",
    "    '''\n",
    "    dim = None\n",
    "    (h, w) = image.shape[:2]\n",
    "\n",
    "    # if both the width and height are None, then return the\n",
    "    # original image\n",
    "    if width is None and height is None:\n",
    "        return image\n",
    "\n",
    "    # check to see if the width is None\n",
    "    if width is None:\n",
    "        # calculate the ratio of the height and construct the\n",
    "        # dimensions\n",
    "        r = height / float(h)\n",
    "        dim = (int(w * r), height)\n",
    "\n",
    "    # otherwise, the height is None\n",
    "    else:\n",
    "        # calculate the ratio of the width and construct the\n",
    "        # dimensions\n",
    "        r = width / float(w)\n",
    "        dim = (width, int(h * r))\n",
    "\n",
    "    # resize the image\n",
    "    resized = cv2.resize(image, dim, interpolation = inter)\n",
    "\n",
    "    # return the resized image\n",
    "    return resized\n"
   ]
  },
  {
   "cell_type": "code",
   "execution_count": 16,
   "metadata": {},
   "outputs": [
    {
     "data": {
      "text/plain": [
       "(28, 28)"
      ]
     },
     "execution_count": 16,
     "metadata": {},
     "output_type": "execute_result"
    },
    {
     "data": {
      "image/png": "[encoded data removed]",
      "text/plain": [
       "<Figure size 432x288 with 1 Axes>"
      ]
     },
     "metadata": {
      "needs_background": "light"
     },
     "output_type": "display_data"
    }
   ],
   "source": [
    "# Resized image\n",
    "imagem = image_resize(img_list[5], 28, 28, cv2.INTER_CUBIC)\n",
    "plt.imshow(imagem)\n",
    "imagem.shape"
   ]
  },
  {
   "cell_type": "code",
   "execution_count": 6,
   "metadata": {},
   "outputs": [],
   "source": [
    "def obtainBestShift(img):\n",
    "    '''\n",
    "    Function Description\n",
    "    obtainBestShift : This function is used to determine the image's center of mass and obtain the optimal shifts.\n",
    "    argument:\n",
    "        img (array) : gray scale image\n",
    "    output:\n",
    "        shiftx, shifty: x,y shift direction\n",
    "    '''\n",
    "    cy,cx = ndimage.measurements.center_of_mass(img)\n",
    "    rows,cols = img.shape\n",
    "    shiftx = np.round(cols/2.0-cx).astype(int)\n",
    "    shifty = np.round(rows/2.0-cy).astype(int)\n",
    "\n",
    "    return shiftx,shifty\n"
   ]
  },
  {
   "cell_type": "code",
   "execution_count": 26,
   "metadata": {},
   "outputs": [
    {
     "data": {
      "text/plain": [
       "(1, -1)"
      ]
     },
     "execution_count": 26,
     "metadata": {},
     "output_type": "execute_result"
    }
   ],
   "source": [
    "obtainBestShift(imagem)"
   ]
  },
  {
   "cell_type": "code",
   "execution_count": 7,
   "metadata": {},
   "outputs": [],
   "source": [
    "def shift(img,sx,sy):\n",
    "    '''\n",
    "    Shift : This function is used to move the image in a specific direction.\n",
    "    argument:\n",
    "        img (array) : gray scale image to be shifted\n",
    "        sx, sy      : x, y direction\n",
    "    output:\n",
    "        shifted : shifted image in a specific direction\n",
    "    '''\n",
    "    rows,cols = img.shape\n",
    "    M = np.float32([[1,0,sx],[0,1,sy]])\n",
    "    shifted = cv2.warpAffine(img,M,(cols,rows))\n",
    "    return shifted"
   ]
  },
  {
   "cell_type": "code",
   "execution_count": 24,
   "metadata": {},
   "outputs": [
    {
     "data": {
      "text/plain": [
       "<matplotlib.image.AxesImage at 0x27d4c4f53d0>"
      ]
     },
     "execution_count": 24,
     "metadata": {},
     "output_type": "execute_result"
    },
    {
     "data": {
      "image/png": "[encoded data removed]",
      "text/plain": [
       "<Figure size 432x288 with 1 Axes>"
      ]
     },
     "metadata": {
      "needs_background": "light"
     },
     "output_type": "display_data"
    }
   ],
   "source": [
    "# best shifted image\n",
    "shift(imagem, 1, -1).shape\n",
    "plt.imshow(np.reshape(shift(imagem, 1, -1), (28,28)))"
   ]
  },
  {
   "cell_type": "code",
   "execution_count": 25,
   "metadata": {},
   "outputs": [],
   "source": [
    "def pre_process_img(gray, resize_flag = 1, preproc = 0):\n",
    "    '''\n",
    "    Function Description\n",
    "    pre_process_img  : The objective of this function is to pre process image for prediction\n",
    "    argument:\n",
    "        gray (Matrix (np.uint8))  : character image to be resized and processed\n",
    "        resize_flag               : method used for resizing image\n",
    "        preproc (method [bool])   : 0 Indictes erosion, Dilation need not be done, 1 indicates Erosion, Dilation needs to be done\n",
    "    output:\n",
    "        grayS (Matrix (0-1))      : Image of a character that has been normalized, scaled, and processed\n",
    "    \n",
    "    '''    \n",
    "    gray = gray.copy()\n",
    "    \n",
    "    #Image Pre Processing\n",
    "    if (preproc == 0):\n",
    "        gray = cv2.GaussianBlur(gray,(7,7),0)\n",
    "    else :\n",
    "        kernel = np.ones((3,3), np.uint8)\n",
    "        gray = cv2.dilate(gray, kernel, iterations=1)    \n",
    "        gray = cv2.GaussianBlur(gray,(5,5),1)\n",
    "        gray = cv2.dilate(gray, kernel, iterations=2)\n",
    "        gray = cv2.erode(gray, kernel,iterations=2)    \n",
    "    \n",
    "    #Getting rid of rows and columns when every pixel is black\n",
    "    while np.sum(gray[0]) == 0:\n",
    "        gray = gray[1:]\n",
    "\n",
    "    while np.sum(gray[:,0]) == 0:\n",
    "        gray = np.delete(gray,0,1)\n",
    "\n",
    "    while np.sum(gray[-1]) == 0:\n",
    "        gray = gray[:-1]\n",
    "\n",
    "    while np.sum(gray[:,-1]) == 0:\n",
    "        gray = np.delete(gray,-1,1)\n",
    "\n",
    "    rows,cols = gray.shape\n",
    "    \n",
    "    if(resize_flag) == 1:\n",
    "        interpolation=cv2.INTER_AREA\n",
    "    else:\n",
    "        interpolation=cv2.INTER_CUBIC\n",
    "    # Before resizing, keep the aspect ratio the same.\n",
    "    if rows > cols:\n",
    "        factor = 20.0/rows\n",
    "        rows = 20\n",
    "        cols = int(round(cols*factor))\n",
    "        # first cols than rows\n",
    "        gray = cv2.resize(gray, (cols,rows),interpolation=interpolation)\n",
    "    else:\n",
    "        factor = 20.0/cols\n",
    "        cols = 20\n",
    "        rows = int(round(rows*factor))\n",
    "        # first cols than rows\n",
    "        gray = cv2.resize(gray, (cols, rows),interpolation=interpolation)\n",
    "   \n",
    "    # Padding to a 28 * 28 image\n",
    "    column_padding = (int(math.ceil((28-cols)/2.0)),int(math.floor((28-cols)/2.0)))\n",
    "    row_padding = (int(math.ceil((28-rows)/2.0)),int(math.floor((28-rows)/2.0)))\n",
    "    gray = np.lib.pad(gray,(row_padding,column_padding),'constant')\n",
    "    \n",
    "    # obtaining the best shifts possible.\n",
    "    shiftx,shifty = obtainBestShift(gray)\n",
    "    shifted = shift(gray,shiftx,shifty)\n",
    "    grayS = shifted\n",
    "    grayS = grayS.reshape(1,1,28,28)\n",
    "    \n",
    "    #Normalizing the image\n",
    "    grayS = grayS/255\n",
    "    \n",
    "    return grayS"
   ]
  },
  {
   "cell_type": "code",
   "execution_count": 29,
   "metadata": {},
   "outputs": [
    {
     "data": {
      "image/png": "[encoded data removed]",
      "text/plain": [
       "<Figure size 432x288 with 1 Axes>"
      ]
     },
     "metadata": {
      "needs_background": "light"
     },
     "output_type": "display_data"
    }
   ],
   "source": [
    "a = pre_process_img(img_list[5], 1,1)\n",
    "a1 = np.reshape(a, (28,28))\n",
    "b = plt.imshow(a1, \"gray\")\n"
   ]
  },
  {
   "cell_type": "code",
   "execution_count": 7,
   "metadata": {},
   "outputs": [
    {
     "data": {
      "text/plain": [
       "<matplotlib.image.AxesImage at 0x130df1790d0>"
      ]
     },
     "execution_count": 7,
     "metadata": {},
     "output_type": "execute_result"
    },
    {
     "data": {
      "image/png": "[encoded data removed]",
      "text/plain": [
       "<Figure size 432x288 with 1 Axes>"
      ]
     },
     "metadata": {
      "needs_background": "light"
     },
     "output_type": "display_data"
    }
   ],
   "source": [
    "a = cv2.imread('data_collection/kaggle/times\\\\exp1.jpg',0) # now, each file can be read using openCV as numpy array\n",
    "(thresh, a) = cv2.threshold(a,127,255,cv2.THRESH_BINARY_INV) # To invert the white pixels to balck and black to white for symbols images to match mnist format\n",
    "\n",
    "\n",
    "gray = cv2.GaussianBlur(a,(7,7),0)\n",
    "plt.imshow(gray)"
   ]
  },
  {
   "cell_type": "code",
   "execution_count": 9,
   "metadata": {},
   "outputs": [
    {
     "data": {
      "text/plain": [
       "<matplotlib.image.AxesImage at 0x130df1af4c0>"
      ]
     },
     "execution_count": 9,
     "metadata": {},
     "output_type": "execute_result"
    },
    {
     "data": {
      "image/png": "[encoded data removed]",
      "text/plain": [
       "<Figure size 432x288 with 1 Axes>"
      ]
     },
     "metadata": {
      "needs_background": "light"
     },
     "output_type": "display_data"
    }
   ],
   "source": [
    "kernel = np.ones((3,3), np.uint8)\n",
    "gray = cv2.dilate(gray, kernel, iterations=1) \n",
    "plt.imshow(gray)"
   ]
  },
  {
   "cell_type": "code",
   "execution_count": 10,
   "metadata": {},
   "outputs": [
    {
     "data": {
      "text/plain": [
       "<matplotlib.image.AxesImage at 0x130df217310>"
      ]
     },
     "execution_count": 10,
     "metadata": {},
     "output_type": "execute_result"
    },
    {
     "data": {
      "image/png": "[encoded data removed]",
      "text/plain": [
       "<Figure size 432x288 with 1 Axes>"
      ]
     },
     "metadata": {
      "needs_background": "light"
     },
     "output_type": "display_data"
    }
   ],
   "source": [
    "gray = cv2.erode(gray, kernel,iterations=2)\n",
    "plt.imshow(gray)"
   ]
  }
 ],
 "metadata": {
  "kernelspec": {
   "display_name": "Python 3",
   "language": "python",
   "name": "python3"
  },
  "language_info": {
   "codemirror_mode": {
    "name": "ipython",
    "version": 3
   },
   "file_extension": ".py",
   "mimetype": "text/x-python",
   "name": "python",
   "nbconvert_exporter": "python",
   "pygments_lexer": "ipython3",
   "version": "3.8.5"
  }
 },
 "nbformat": 4,
 "nbformat_minor": 4
}
